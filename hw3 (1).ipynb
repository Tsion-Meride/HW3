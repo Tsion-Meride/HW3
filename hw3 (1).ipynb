{
  "nbformat": 4,
  "nbformat_minor": 0,
  "metadata": {
    "colab": {
      "provenance": []
    },
    "kernelspec": {
      "name": "python3",
      "display_name": "Python 3"
    },
    "language_info": {
      "name": "python"
    }
  },
  "cells": [
    {
      "cell_type": "code",
      "source": [
        "!pip install sentinelhub"
      ],
      "metadata": {
        "colab": {
          "base_uri": "https://localhost:8080/"
        },
        "id": "iKZ0h46zTZM7",
        "outputId": "994ca5c2-ef03-4543-f948-6e5cf768e52e"
      },
      "execution_count": null,
      "outputs": [
        {
          "output_type": "stream",
          "name": "stdout",
          "text": [
            "Collecting sentinelhub\n",
            "  Downloading sentinelhub-3.10.2-py3-none-any.whl (245 kB)\n",
            "\u001b[2K     \u001b[90m━━━━━━━━━━━━━━━━━━━━━━━━━━━━━━━━━━━━━━━━\u001b[0m \u001b[32m245.6/245.6 kB\u001b[0m \u001b[31m3.1 MB/s\u001b[0m eta \u001b[36m0:00:00\u001b[0m\n",
            "\u001b[?25hCollecting aenum>=2.1.4 (from sentinelhub)\n",
            "  Downloading aenum-3.1.15-py3-none-any.whl (137 kB)\n",
            "\u001b[2K     \u001b[90m━━━━━━━━━━━━━━━━━━━━━━━━━━━━━━━━━━━━━━━━\u001b[0m \u001b[32m137.6/137.6 kB\u001b[0m \u001b[31m7.1 MB/s\u001b[0m eta \u001b[36m0:00:00\u001b[0m\n",
            "\u001b[?25hRequirement already satisfied: click in /usr/local/lib/python3.10/dist-packages (from sentinelhub) (8.1.7)\n",
            "Collecting dataclasses-json (from sentinelhub)\n",
            "  Downloading dataclasses_json-0.6.6-py3-none-any.whl (28 kB)\n",
            "Requirement already satisfied: numpy<2 in /usr/local/lib/python3.10/dist-packages (from sentinelhub) (1.25.2)\n",
            "Requirement already satisfied: oauthlib in /usr/local/lib/python3.10/dist-packages (from sentinelhub) (3.2.2)\n",
            "Requirement already satisfied: pillow>=9.2.0 in /usr/local/lib/python3.10/dist-packages (from sentinelhub) (9.4.0)\n",
            "Requirement already satisfied: pyproj>=2.2.0 in /usr/local/lib/python3.10/dist-packages (from sentinelhub) (3.6.1)\n",
            "Requirement already satisfied: python-dateutil in /usr/local/lib/python3.10/dist-packages (from sentinelhub) (2.8.2)\n",
            "Requirement already satisfied: requests-oauthlib>=1.0.0 in /usr/local/lib/python3.10/dist-packages (from sentinelhub) (1.3.1)\n",
            "Requirement already satisfied: requests>=2.27.0 in /usr/local/lib/python3.10/dist-packages (from sentinelhub) (2.31.0)\n",
            "Requirement already satisfied: shapely in /usr/local/lib/python3.10/dist-packages (from sentinelhub) (2.0.4)\n",
            "Requirement already satisfied: tifffile>=2020.9.30 in /usr/local/lib/python3.10/dist-packages (from sentinelhub) (2024.5.22)\n",
            "Requirement already satisfied: tomli in /usr/local/lib/python3.10/dist-packages (from sentinelhub) (2.0.1)\n",
            "Collecting tomli-w (from sentinelhub)\n",
            "  Downloading tomli_w-1.0.0-py3-none-any.whl (6.0 kB)\n",
            "Requirement already satisfied: tqdm in /usr/local/lib/python3.10/dist-packages (from sentinelhub) (4.66.4)\n",
            "Requirement already satisfied: typing-extensions>=4.5.0 in /usr/local/lib/python3.10/dist-packages (from sentinelhub) (4.11.0)\n",
            "Collecting utm (from sentinelhub)\n",
            "  Downloading utm-0.7.0.tar.gz (8.7 kB)\n",
            "  Preparing metadata (setup.py) ... \u001b[?25l\u001b[?25hdone\n",
            "Requirement already satisfied: certifi in /usr/local/lib/python3.10/dist-packages (from pyproj>=2.2.0->sentinelhub) (2024.2.2)\n",
            "Requirement already satisfied: charset-normalizer<4,>=2 in /usr/local/lib/python3.10/dist-packages (from requests>=2.27.0->sentinelhub) (3.3.2)\n",
            "Requirement already satisfied: idna<4,>=2.5 in /usr/local/lib/python3.10/dist-packages (from requests>=2.27.0->sentinelhub) (3.7)\n",
            "Requirement already satisfied: urllib3<3,>=1.21.1 in /usr/local/lib/python3.10/dist-packages (from requests>=2.27.0->sentinelhub) (2.0.7)\n",
            "Collecting marshmallow<4.0.0,>=3.18.0 (from dataclasses-json->sentinelhub)\n",
            "  Downloading marshmallow-3.21.2-py3-none-any.whl (49 kB)\n",
            "\u001b[2K     \u001b[90m━━━━━━━━━━━━━━━━━━━━━━━━━━━━━━━━━━━━━━━━\u001b[0m \u001b[32m49.3/49.3 kB\u001b[0m \u001b[31m3.4 MB/s\u001b[0m eta \u001b[36m0:00:00\u001b[0m\n",
            "\u001b[?25hCollecting typing-inspect<1,>=0.4.0 (from dataclasses-json->sentinelhub)\n",
            "  Downloading typing_inspect-0.9.0-py3-none-any.whl (8.8 kB)\n",
            "Requirement already satisfied: six>=1.5 in /usr/local/lib/python3.10/dist-packages (from python-dateutil->sentinelhub) (1.16.0)\n",
            "Requirement already satisfied: packaging>=17.0 in /usr/local/lib/python3.10/dist-packages (from marshmallow<4.0.0,>=3.18.0->dataclasses-json->sentinelhub) (24.0)\n",
            "Collecting mypy-extensions>=0.3.0 (from typing-inspect<1,>=0.4.0->dataclasses-json->sentinelhub)\n",
            "  Downloading mypy_extensions-1.0.0-py3-none-any.whl (4.7 kB)\n",
            "Building wheels for collected packages: utm\n",
            "  Building wheel for utm (setup.py) ... \u001b[?25l\u001b[?25hdone\n",
            "  Created wheel for utm: filename=utm-0.7.0-py3-none-any.whl size=6084 sha256=fbc829b8d55913a91bdcc14a5e246e0fef459695b5d99f1b7482053c8384766c\n",
            "  Stored in directory: /root/.cache/pip/wheels/2f/a1/c8/543df0e8f5e824c3e92a432e32deb9cd89ae686095ee8cfcbe\n",
            "Successfully built utm\n",
            "Installing collected packages: utm, aenum, tomli-w, mypy-extensions, marshmallow, typing-inspect, dataclasses-json, sentinelhub\n",
            "Successfully installed aenum-3.1.15 dataclasses-json-0.6.6 marshmallow-3.21.2 mypy-extensions-1.0.0 sentinelhub-3.10.2 tomli-w-1.0.0 typing-inspect-0.9.0 utm-0.7.0\n"
          ]
        }
      ]
    },
    {
      "cell_type": "code",
      "source": [
        "import requests\n",
        "\n",
        "# Define the location coordinates and radius\n",
        "lat = 37.7749\n",
        "lon = -122.4194\n",
        "radius = 1000  # in feet\n",
        "\n",
        "# Google Maps Static API endpoint and parameters\n",
        "api_key = 'YOUR_API_KEY_HERE'\n",
        "url = f'https://maps.googleapis.com/maps/api/staticmap?center={lat},{lon}&zoom=15&size=640x640&radius={radius}&sensor=false&key={api_key}'\n",
        "\n",
        "# Send the API request and retrieve the image\n",
        "response = requests.get(url)\n",
        "\n",
        "# Save the image to a file\n",
        "with open('satellite_image.png', 'wb') as f:\n",
        "    f.write(response.content)\n",
        "\n",
        "print('Satellite image saved to satellite_image.png')"
      ],
      "metadata": {
        "colab": {
          "base_uri": "https://localhost:8080/"
        },
        "id": "-aqQSc428BgP",
        "outputId": "92da1b68-b4b7-4827-c0e0-436c62a88e12"
      },
      "execution_count": null,
      "outputs": [
        {
          "output_type": "stream",
          "name": "stdout",
          "text": [
            "Satellite image saved to satellite_image.png\n"
          ]
        }
      ]
    },
    {
      "cell_type": "code",
      "source": [
        "import os\n",
        "\n",
        "if not os.path.exists('Lideta.jpg'):\n",
        "    raise FileNotFoundError('Satellite image file not found.')"
      ],
      "metadata": {
        "id": "vMLTzbRtA1tx"
      },
      "execution_count": null,
      "outputs": []
    },
    {
      "cell_type": "code",
      "source": [
        "!pip install Pillow"
      ],
      "metadata": {
        "colab": {
          "base_uri": "https://localhost:8080/"
        },
        "id": "1jbfsBCGFiDx",
        "outputId": "84a1b33a-9cd9-4485-ba85-f90fd4f0c4e8"
      },
      "execution_count": null,
      "outputs": [
        {
          "output_type": "stream",
          "name": "stdout",
          "text": [
            "Requirement already satisfied: Pillow in /usr/local/lib/python3.10/dist-packages (9.4.0)\n"
          ]
        }
      ]
    },
    {
      "cell_type": "code",
      "source": [
        "import requests\n",
        "from PIL import Image\n",
        "import numpy as np\n",
        "\n",
        "def get_elevation(latitude, longitude):\n",
        "    \"\"\"\n",
        "    Retrieves the elevation of a specified location using the Google Maps Elevation API.\n",
        "\n",
        "    Args:\n",
        "        latitude (float): The latitude of the location.\n",
        "        longitude (float): The longitude of the location.\n",
        "\n",
        "    Returns:\n",
        "        float: The elevation of the specified location in meters.\n",
        "    \"\"\"\n",
        "    api_key = 'YOUR_API_KEY_HERE'\n",
        "    url = f'https://maps.googleapis.com/maps/api/elevation/json?locations={latitude},{longitude}&key={api_key}'\n",
        "\n",
        "    try:\n",
        "        response = requests.get(url)\n",
        "        response.raise_for_status()\n",
        "        data = response.json()\n",
        "        elevation = data['results'][0]['elevation']\n",
        "        return elevation\n",
        "    except requests.exceptions.RequestException as e:\n",
        "        print(f'Error retrieving elevation: {e}')\n",
        "        return None\n",
        "\n",
        "def analyze_satellite_image(image_path):\n",
        "    \"\"\"\n",
        "    Analyzes a satellite image and retrieves the elevation information for the specified location.\n",
        "\n",
        "    Args:\n",
        "        image_path (str): The file path of the satellite image.\n",
        "    \"\"\"\n",
        "    # Load the satellite image\n",
        "    image = Image.open(satellite_image.png)\n",
        "\n",
        "    # Convert the image to a NumPy array\n",
        "    image_data = np.array(image)\n",
        "\n",
        "    # Perform analysis on the image data\n",
        "    # Example: Retrieve the center coordinates of the image\n",
        "    height, width, _ = image_data.shape\n",
        "    center_x = width // 2\n",
        "    center_y = height // 2\n",
        "\n",
        "    # Retrieve the elevation for the center coordinates\n",
        "    latitude = 37.7749  # Replace with the actual latitude\n",
        "    longitude = -122.4194  # Replace with the actual longitude\n",
        "    elevation = get_elevation(latitude, longitude)\n",
        "\n",
        "    if elevation is not None:\n",
        "        print(f'The elevation of the specified location is {elevation:.2f} meters.')\n",
        "    else:\n",
        "        print('Unable to retrieve elevation information.')\n",
        "\n",
        "# Example usage\n",
        "analyze_satellite_image('satellite_image.png')"
      ],
      "metadata": {
        "id": "I2ivE4RAHu-U"
      },
      "execution_count": null,
      "outputs": []
    },
    {
      "cell_type": "code",
      "source": [
        "import numpy as np\n",
        "from PIL import Image\n",
        "import matplotlib.pyplot as plt\n",
        "from scipy.ndimage.filters import gaussian_filter\n",
        "from scipy.spatial.distance import cdist\n",
        "\n",
        "def preprocess_image(image_path, output_size=(350, 350)):\n",
        "    \"\"\"\n",
        "    Preprocess a satellite image to ensure consistent resolution and format.\n",
        "\n",
        "    Args:\n",
        "        image_path (str): The file path of the satellite image.\n",
        "        output_size (tuple): The desired output size of the image (width, height).\n",
        "\n",
        "    Returns:\n",
        "        numpy.ndarray: The preprocessed satellite image.\n",
        "    \"\"\"\n",
        "    # Load the satellite image\n",
        "    image = Image.open(image_path)\n",
        "\n",
        "    # Resize the image to the desired output size\n",
        "    image = image.resize(output_size)\n",
        "\n",
        "    # Convert the image to a NumPy array\n",
        "    image_data = np.array(image)\n",
        "\n",
        "    return image_data\n",
        "\n",
        "def create_graph(image_data, sigma=1.0):\n",
        "    \"\"\"\n",
        "    Create an undirected graphical model from the satellite image.\n",
        "\n",
        "    Args:\n",
        "        image_data (numpy.ndarray): The preprocessed satellite image.\n",
        "        sigma (float): The standard deviation of the Gaussian kernel for smoothing.\n",
        "\n",
        "    Returns:\n",
        "        numpy.ndarray: The adjacency matrix of the graphical model.\n",
        "        numpy.ndarray: The node features (e.g., color, texture).\n",
        "    \"\"\"\n",
        "    height, width, channels = image_data.shape\n",
        "\n",
        "    # Compute node features (e.g., color, texture)\n",
        "    node_features = np.concatenate([\n",
        "        gaussian_filter(image_data[:, :, i], sigma) for i in range(channels)\n",
        "    ], axis=-1)\n",
        "\n",
        "    # Compute the adjacency matrix\n",
        "    positions = np.stack(np.meshgrid(np.arange(width), np.arange(height)), axis=-1).reshape(-1, 2)\n",
        "    distances = cdist(positions, positions)\n",
        "    adjacency_matrix = np.exp(-distances / sigma)\n",
        "\n",
        "    return adjacency_matrix, node_features\n",
        "\n",
        "def detect_environmental_features(adjacency_matrix, node_features):\n",
        "    \"\"\"\n",
        "    Detect relevant environmental features in the satellite image using the graphical model.\n",
        "\n",
        "    Args:\n",
        "        adjacency_matrix (numpy.ndarray): The adjacency matrix of the graphical model.\n",
        "        node_features (numpy.ndarray): The node features (e.g., color, texture).\n",
        "\n",
        "    Returns:\n",
        "        numpy.ndarray: The segmentation mask, where each pixel is assigned a label (e.g., 0 for trees, 1 for grass).\n",
        "    \"\"\"\n",
        "    # Implement belief propagation or other inference algorithms to perform segmentation\n",
        "    # and identify regions corresponding to trees, grass, or other features\n",
        "\n",
        "    # Example: Simple thresholding based on color features\n",
        "    segmentation_mask = np.zeros_like(node_features[:, 0], dtype=int)\n",
        "    segmentation_mask[node_features[:, 0] > 150] = 1  # Assign grass label\n",
        "    segmentation_mask[node_features[:, 1] > 100] = 0  # Assign tree label\n",
        "\n",
        "    return segmentation_mask.reshape(image_data.shape[:2])\n",
        "\n",
        "# Example usage\n",
        "preprocessed_image = preprocess_image('satellite_image.png')\n",
        "adjacency_matrix, node_features = create_graph(preprocessed_image)\n",
        "segmentation_mask = detect_environmental_features(adjacency_matrix, node_features)\n",
        "\n",
        "# Visualize the segmentation results\n",
        "plt.figure(figsize=(8, 8))\n",
        "plt.imshow(segmentation_mask, cmap='viridis')\n",
        "plt.title('Segmentation of Environmental Features')\n",
        "plt.show()"
      ],
      "metadata": {
        "id": "85I8-E3sOard"
      },
      "execution_count": null,
      "outputs": []
    },
    {
      "cell_type": "code",
      "source": [
        "import numpy as np\n",
        "from PIL import Image\n",
        "import matplotlib.pyplot as plt\n",
        "from scipy.ndimage.filters import gaussian_filter\n",
        "from scipy.spatial.distance import cdist\n",
        "\n",
        "def preprocess_image(image_path, output_size=(350, 350)):\n",
        "    # Code from the previous example\n",
        "\n",
        "def create_graph(image_data, sigma=1.0):\n",
        "    # Code from the previous example\n",
        "\n",
        "def detect_environmental_features(adjacency_matrix, node_features):\n",
        "    # Code from the previous example\n",
        "\n",
        "def draw_boundaries(image_data, segmentation_mask, location):\n",
        "    \"\"\"\n",
        "    Draw color-coded boundaries around the detected forest and grassy regions.\n",
        "\n",
        "    Args:\n",
        "        image_data (numpy.ndarray): The preprocessed satellite image.\n",
        "        segmentation_mask (numpy.ndarray): The segmentation mask, where each pixel is assigned a label (e.g., 0 for trees, 1 for grass).\n",
        "        location (tuple): The (x, y) coordinates of the specified location.\n",
        "\n",
        "    Returns:\n",
        "        numpy.ndarray: The image with the drawn boundaries.\n",
        "    \"\"\"\n",
        "    height, width = image_data.shape[:2]\n",
        "\n",
        "    # Draw the edge from the specified location to the identified cluster of trees\n",
        "    tree_mask = (segmentation_mask == 0)\n",
        "    tree_positions = np.argwhere(tree_mask)\n",
        "    tree_cluster = tree_positions[np.linalg.norm(tree_positions - location, axis=1).argsort()[0]]\n",
        "\n",
        "    plt.figure(figsize=(8, 8))\n",
        "    plt.imshow(image_data)\n",
        "    plt.plot([location[0], tree_cluster[1]], [location[1], tree_cluster[0]], color='yellow', linewidth=2)\n",
        "\n",
        "    # Draw the color-coded boundaries around the detected forest regions\n",
        "    for radius in [200, 1000]:\n",
        "        forest_mask = tree_mask & (np.linalg.norm(tree_positions - location, axis=1) <= radius)\n",
        "        forest_contours, _ = cv2.findContours(forest_mask.astype(np.uint8), cv2.RETR_EXTERNAL, cv2.CHAIN_APPROX_SIMPLE)\n",
        "\n",
        "        for contour in forest_contours:\n",
        "            if cv2.contourArea(contour) > 100:\n",
        "                color = 'blue' if radius <= 200 else 'red'\n",
        "                cv2.drawContours(image_data, [contour], 0, color, 2)\n",
        "\n",
        "    # Draw the color-coded boundaries around the detected grassy areas\n",
        "    grass_mask = (segmentation_mask == 1)\n",
        "    grass_contours, _ = cv2.findContours(grass_mask.astype(np.uint8), cv2.RETR_EXTERNAL, cv2.CHAIN_APPROX_SIMPLE)\n",
        "\n",
        "    for contour in grass_contours:\n",
        "        if cv2.contourArea(contour) > 100:\n",
        "            cv2.drawContours(image_data, [contour], 0, 'green', 2)\n",
        "\n",
        "    return image_data\n",
        "\n",
        "# Example usage\n",
        "preprocessed_image = preprocess_image('satellite_image.png')\n",
        "adjacency_matrix, node_features = create_graph(preprocessed_image)\n",
        "segmentation_mask = detect_environmental_features(adjacency_matrix, node_features)\n",
        "image_with_boundaries = draw_boundaries(preprocessed_image, segmentation_mask, (100, 200))\n",
        "\n",
        "plt.figure(figsize=(8, 8))\n",
        "plt.imshow(image_with_boundaries)\n",
        "plt.title('Satellite Image with Environmental Feature Boundaries')\n",
        "plt.show()"
      ],
      "metadata": {
        "id": "T2omXmecQ7cy"
      },
      "execution_count": null,
      "outputs": []
    },
    {
      "cell_type": "code",
      "source": [],
      "metadata": {
        "id": "XIUyiW51Q9Qq"
      },
      "execution_count": null,
      "outputs": []
    },
    {
      "cell_type": "code",
      "source": [
        "!pip install rasterio"
      ],
      "metadata": {
        "colab": {
          "base_uri": "https://localhost:8080/"
        },
        "id": "f-yWXYQO6bf0",
        "outputId": "2abc9ff0-2250-4a37-f191-aa5cb8d55949"
      },
      "execution_count": null,
      "outputs": [
        {
          "output_type": "stream",
          "name": "stdout",
          "text": [
            "Collecting rasterio\n",
            "  Downloading rasterio-1.3.10-cp310-cp310-manylinux2014_x86_64.whl (21.5 MB)\n",
            "\u001b[2K     \u001b[90m━━━━━━━━━━━━━━━━━━━━━━━━━━━━━━━━━━━━━━━━\u001b[0m \u001b[32m21.5/21.5 MB\u001b[0m \u001b[31m33.4 MB/s\u001b[0m eta \u001b[36m0:00:00\u001b[0m\n",
            "\u001b[?25hCollecting affine (from rasterio)\n",
            "  Downloading affine-2.4.0-py3-none-any.whl (15 kB)\n",
            "Requirement already satisfied: attrs in /usr/local/lib/python3.10/dist-packages (from rasterio) (23.2.0)\n",
            "Requirement already satisfied: certifi in /usr/local/lib/python3.10/dist-packages (from rasterio) (2024.2.2)\n",
            "Requirement already satisfied: click>=4.0 in /usr/local/lib/python3.10/dist-packages (from rasterio) (8.1.7)\n",
            "Requirement already satisfied: cligj>=0.5 in /usr/local/lib/python3.10/dist-packages (from rasterio) (0.7.2)\n",
            "Requirement already satisfied: numpy in /usr/local/lib/python3.10/dist-packages (from rasterio) (1.25.2)\n",
            "Collecting snuggs>=1.4.1 (from rasterio)\n",
            "  Downloading snuggs-1.4.7-py3-none-any.whl (5.4 kB)\n",
            "Requirement already satisfied: click-plugins in /usr/local/lib/python3.10/dist-packages (from rasterio) (1.1.1)\n",
            "Requirement already satisfied: setuptools in /usr/local/lib/python3.10/dist-packages (from rasterio) (67.7.2)\n",
            "Requirement already satisfied: pyparsing>=2.1.6 in /usr/local/lib/python3.10/dist-packages (from snuggs>=1.4.1->rasterio) (3.1.2)\n",
            "Installing collected packages: snuggs, affine, rasterio\n",
            "Successfully installed affine-2.4.0 rasterio-1.3.10 snuggs-1.4.7\n"
          ]
        }
      ]
    },
    {
      "cell_type": "code",
      "source": [
        "!pip install rasterio[warp]"
      ],
      "metadata": {
        "colab": {
          "base_uri": "https://localhost:8080/"
        },
        "id": "-1oQp0mT65ue",
        "outputId": "be389bfb-3567-4b04-bd08-eac4bc686e7b"
      },
      "execution_count": null,
      "outputs": [
        {
          "output_type": "stream",
          "name": "stdout",
          "text": [
            "Requirement already satisfied: rasterio[warp] in /usr/local/lib/python3.10/dist-packages (1.3.10)\n",
            "\u001b[33mWARNING: rasterio 1.3.10 does not provide the extra 'warp'\u001b[0m\u001b[33m\n",
            "\u001b[0mRequirement already satisfied: affine in /usr/local/lib/python3.10/dist-packages (from rasterio[warp]) (2.4.0)\n",
            "Requirement already satisfied: attrs in /usr/local/lib/python3.10/dist-packages (from rasterio[warp]) (23.2.0)\n",
            "Requirement already satisfied: certifi in /usr/local/lib/python3.10/dist-packages (from rasterio[warp]) (2024.2.2)\n",
            "Requirement already satisfied: click>=4.0 in /usr/local/lib/python3.10/dist-packages (from rasterio[warp]) (8.1.7)\n",
            "Requirement already satisfied: cligj>=0.5 in /usr/local/lib/python3.10/dist-packages (from rasterio[warp]) (0.7.2)\n",
            "Requirement already satisfied: numpy in /usr/local/lib/python3.10/dist-packages (from rasterio[warp]) (1.25.2)\n",
            "Requirement already satisfied: snuggs>=1.4.1 in /usr/local/lib/python3.10/dist-packages (from rasterio[warp]) (1.4.7)\n",
            "Requirement already satisfied: click-plugins in /usr/local/lib/python3.10/dist-packages (from rasterio[warp]) (1.1.1)\n",
            "Requirement already satisfied: setuptools in /usr/local/lib/python3.10/dist-packages (from rasterio[warp]) (67.7.2)\n",
            "Requirement already satisfied: pyparsing>=2.1.6 in /usr/local/lib/python3.10/dist-packages (from snuggs>=1.4.1->rasterio[warp]) (3.1.2)\n"
          ]
        }
      ]
    },
    {
      "cell_type": "code",
      "source": [
        "from rasterio.warp import reproject"
      ],
      "metadata": {
        "id": "XV7BpHpU7XBS"
      },
      "execution_count": null,
      "outputs": []
    },
    {
      "cell_type": "code",
      "source": [
        "import rasterio\n",
        "import numpy as np\n",
        "\n",
        "# Ensure consistent resolution and format\n",
        "resampled_image = rasterio.warp.reproject(\n",
        "    sentinel_image,\n",
        "    dst_crs=CRS.WGS84,\n",
        "    dst_nodata=0,\n",
        "    resampling=rasterio.warp.Resampling.bilinear,\n",
        "    width=int(bbox.get_size()[0] / 10),\n",
        "    height=int(bbox.get_size()[1] / 10)\n",
        ")"
      ],
      "metadata": {
        "colab": {
          "base_uri": "https://localhost:8080/",
          "height": 211
        },
        "id": "mt6Ky741TXa6",
        "outputId": "59759538-46d0-4561-96bc-c58745fb0502"
      },
      "execution_count": null,
      "outputs": [
        {
          "output_type": "error",
          "ename": "NameError",
          "evalue": "name 'sentinel_image' is not defined",
          "traceback": [
            "\u001b[0;31m---------------------------------------------------------------------------\u001b[0m",
            "\u001b[0;31mNameError\u001b[0m                                 Traceback (most recent call last)",
            "\u001b[0;32m<ipython-input-7-4fc6f35a3e2d>\u001b[0m in \u001b[0;36m<cell line: 5>\u001b[0;34m()\u001b[0m\n\u001b[1;32m      4\u001b[0m \u001b[0;31m# Ensure consistent resolution and format\u001b[0m\u001b[0;34m\u001b[0m\u001b[0;34m\u001b[0m\u001b[0m\n\u001b[1;32m      5\u001b[0m resampled_image = rasterio.warp.reproject(\n\u001b[0;32m----> 6\u001b[0;31m     \u001b[0msentinel_image\u001b[0m\u001b[0;34m,\u001b[0m\u001b[0;34m\u001b[0m\u001b[0;34m\u001b[0m\u001b[0m\n\u001b[0m\u001b[1;32m      7\u001b[0m     \u001b[0mdst_crs\u001b[0m\u001b[0;34m=\u001b[0m\u001b[0mCRS\u001b[0m\u001b[0;34m.\u001b[0m\u001b[0mWGS84\u001b[0m\u001b[0;34m,\u001b[0m\u001b[0;34m\u001b[0m\u001b[0;34m\u001b[0m\u001b[0m\n\u001b[1;32m      8\u001b[0m     \u001b[0mdst_nodata\u001b[0m\u001b[0;34m=\u001b[0m\u001b[0;36m0\u001b[0m\u001b[0;34m,\u001b[0m\u001b[0;34m\u001b[0m\u001b[0;34m\u001b[0m\u001b[0m\n",
            "\u001b[0;31mNameError\u001b[0m: name 'sentinel_image' is not defined"
          ]
        }
      ]
    },
    {
      "cell_type": "code",
      "source": [
        "import networkx as nx\n",
        "import matplotlib.pyplot as plt\n",
        "\n",
        "# Create the graph\n",
        "G = nx.Graph()\n",
        "\n",
        "# Add nodes and edges based on the image pixels and their spatial relationships\n",
        "for i in range(resampled_image.shape[0]):\n",
        "    for j in range(resampled_image.shape[1]):\n",
        "        G.add_node((i, j), feature=resampled_image[i, j])\n",
        "        for di in [-1, 0, 1]:\n",
        "            for dj in [-1, 0, 1]:\n",
        "                if di != 0 or dj != 0:\n",
        "                    if 0 <= i + di < resampled_image.shape[0] and 0 <= j + dj < resampled_image.shape[1]:\n",
        "                        G.add_edge((i, j), (i + di, j + dj))"
      ],
      "metadata": {
        "id": "vxpImjOK6nWr"
      },
      "execution_count": null,
      "outputs": []
    }
  ]
}